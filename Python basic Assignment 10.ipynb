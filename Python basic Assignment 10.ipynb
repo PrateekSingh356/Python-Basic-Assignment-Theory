{
 "cells": [
  {
   "cell_type": "markdown",
   "id": "2a5ca1a5",
   "metadata": {},
   "source": [
    "# Assignment 10"
   ]
  },
  {
   "cell_type": "markdown",
   "id": "e182168c",
   "metadata": {},
   "source": [
    "# 1. How do you distinguish between shutil.copy() and shutil.copytree()?\n",
    "The shutil.copy() function will copy a single file, while shutil.copytree() will copy an entire folder, along with all its contents."
   ]
  },
  {
   "cell_type": "markdown",
   "id": "99dc445c",
   "metadata": {},
   "source": [
    "# 2. What function is used to rename files??\n",
    "The shutil.move() function is used for renaming files as well as moving them."
   ]
  },
  {
   "cell_type": "markdown",
   "id": "b834f6e8",
   "metadata": {},
   "source": [
    "# 3. What is the difference between the delete functions in the send2trash and shutil modules?\n",
    "The send2trash functions will move a file or folder to the recycle bin, while shutil functions will permanently delete files and folders."
   ]
  },
  {
   "cell_type": "markdown",
   "id": "b55a9514",
   "metadata": {},
   "source": [
    "# 4.ZipFile objects have a close() method just like File objects’ close() method. What ZipFile method is equivalent to File objects’ open() method?\n",
    "The zipfile.ZipFile() function is equivalent to the open() function; the first argument is the filename, and the second argument is the mode to open the ZIP file in (read, write, or append)."
   ]
  },
  {
   "cell_type": "markdown",
   "id": "9d7e73bc",
   "metadata": {},
   "source": [
    "# 5. Create a programme that searches a folder tree for files with a certain file extension (such as .pdf or .jpg). Copy these files from whatever location they are in to a new folder."
   ]
  },
  {
   "cell_type": "code",
   "execution_count": 53,
   "id": "d3454eb9",
   "metadata": {},
   "outputs": [
    {
     "name": "stdout",
     "output_type": "stream",
     "text": [
      "Looking in C:\\Users\\prateek\\randomFolder for files with extensions of .pdf, .jpg\n"
     ]
    }
   ],
   "source": [
    "import os, shutil\n",
    "\n",
    "def selectiveCopy(folder, extensions, destFolder):\n",
    "    folder = os.path.abspath(folder)\n",
    "    destFolder = os.path.abspath(destFolder)\n",
    "    print('Looking in', folder, 'for files with extensions of', ', '.join(extensions))\n",
    "    for foldername, subfolders, filenames in os.walk(folder):\n",
    "        for filename in filenames:\n",
    "            name, extension = os.path.splitext(filename)\n",
    "            if extension in extensions:\n",
    "                fileAbsPath = foldername + os.path.sep + filename\n",
    "                print('Coping', fileAbsPath, 'to', destFolder)\n",
    "                shutil.copy(fileAbsPath, destFolder)\n",
    "\n",
    "extensions = ['.pdf', '.jpg']\n",
    "folder = 'randomFolder'\n",
    "destFolder = 'selectiveFolder'\n",
    "selectiveCopy(folder, extensions, destFolder)"
   ]
  },
  {
   "cell_type": "markdown",
   "id": "f0a61ec1",
   "metadata": {},
   "source": [
    "# 6. What are the three “mode” arguments that can be passed to the open() function?\n",
    "The string 'r' for read mode, 'w' for write mode, and 'a' for append mode."
   ]
  },
  {
   "cell_type": "markdown",
   "id": "11d1ac8f",
   "metadata": {},
   "source": [
    "# 7. What happens if an existing file is opened in write mode?\n",
    "An existing file opened in write mode is erased and completely overwritten."
   ]
  },
  {
   "cell_type": "markdown",
   "id": "0d9a94fb",
   "metadata": {},
   "source": [
    "# 8. How do you tell the difference between read() and readlines()?\n",
    "The read() method returns the file’s entire contents as a single string value. The readlines() method returns a list of strings, where each string is a line from the file’s contents."
   ]
  },
  {
   "cell_type": "markdown",
   "id": "f1550ce7",
   "metadata": {},
   "source": [
    "# 9. What data structure does a shelf value resemble?\n",
    "A shelf value resembles a dictionary value; it has keys and values, along with keys() and values() methods that work similarly to the dictionary methods of the same names."
   ]
  }
 ],
 "metadata": {
  "kernelspec": {
   "display_name": "Python 3 (ipykernel)",
   "language": "python",
   "name": "python3"
  },
  "language_info": {
   "codemirror_mode": {
    "name": "ipython",
    "version": 3
   },
   "file_extension": ".py",
   "mimetype": "text/x-python",
   "name": "python",
   "nbconvert_exporter": "python",
   "pygments_lexer": "ipython3",
   "version": "3.9.2"
  }
 },
 "nbformat": 4,
 "nbformat_minor": 5
}
