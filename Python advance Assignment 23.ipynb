{
 "cells": [
  {
   "cell_type": "markdown",
   "id": "e49e35c0",
   "metadata": {},
   "source": [
    "# Assignment 23"
   ]
  },
  {
   "cell_type": "markdown",
   "id": "d470998c",
   "metadata": {},
   "source": [
    "\n",
    "# Q1. If you have any, what are your choices for increasing the comparison between different figures on the same graph?"
   ]
  },
  {
   "cell_type": "code",
   "execution_count": 25,
   "id": "d5c97073",
   "metadata": {},
   "outputs": [],
   "source": [
    "# Ans : Bar charts are good for comparisons, while line charts work better for trends. Scatter plot charts are good\n",
    "#       for relationships and distributions, but pie charts should be used only for simple compositions — never for \n",
    "#       comparisons or distributions."
   ]
  },
  {
   "cell_type": "markdown",
   "id": "45d06bce",
   "metadata": {},
   "source": [
    "# Q2. Can you explain the benefit of compound interest over a higher rate of interest that does not compound after reading this chapter?"
   ]
  },
  {
   "cell_type": "code",
   "execution_count": 26,
   "id": "9c1bc396",
   "metadata": {},
   "outputs": [],
   "source": [
    "# Ans : Compound interest makes your money grow faster because interest is calculated on the accumulated interest \n",
    "#       over time as well as on your original principal. Compounding can create a snowball effect, as the original\n",
    "#       investments plus the income earned from those investments grow together."
   ]
  },
  {
   "cell_type": "markdown",
   "id": "21153306",
   "metadata": {},
   "source": [
    "# Q3. What is a histogram, exactly? Name a numpy method for creating such a graph."
   ]
  },
  {
   "cell_type": "code",
   "execution_count": 13,
   "id": "28b04439",
   "metadata": {},
   "outputs": [],
   "source": [
    "# Ans : Histogram is a type of a plot which hold the total number of counts or the percentile value in y-axis w.r.t.\n",
    "#       corresponding x-variables. When we say the number of counts it means that for a particular range in x-axis\n",
    "#       what will be the number of counts of the data points. When we talk about percentile it shows the probability\n",
    "#       occurrence of the x-variable or what percentage of data are below that particular percetile value w.r.t.\n",
    "#       particular x-variable range. Numpy has a built-in numpy. histogram() function."
   ]
  },
  {
   "cell_type": "markdown",
   "id": "0b3d983b",
   "metadata": {},
   "source": [
    "# Q4. If necessary, how do you change the aspect ratios between the X and Y axes?"
   ]
  },
  {
   "cell_type": "code",
   "execution_count": 27,
   "id": "b29e3495",
   "metadata": {},
   "outputs": [
    {
     "ename": "NameError",
     "evalue": "name 'figure' is not defined",
     "output_type": "error",
     "traceback": [
      "\u001b[1;31m---------------------------------------------------------------------------\u001b[0m",
      "\u001b[1;31mNameError\u001b[0m                                 Traceback (most recent call last)",
      "Input \u001b[1;32mIn [27]\u001b[0m, in \u001b[0;36m<cell line: 3>\u001b[1;34m()\u001b[0m\n\u001b[0;32m      1\u001b[0m \u001b[38;5;66;03m# Ans : We can use figure(figsize=(10,8)) function inside the matplot.pyplot library which we scale \u001b[39;00m\n\u001b[0;32m      2\u001b[0m \u001b[38;5;66;03m#       down or up the graph.\u001b[39;00m\n\u001b[1;32m----> 3\u001b[0m \u001b[43mfigure\u001b[49m(figsize\u001b[38;5;241m=\u001b[39m(\u001b[38;5;241m10\u001b[39m,\u001b[38;5;241m8\u001b[39m))\n",
      "\u001b[1;31mNameError\u001b[0m: name 'figure' is not defined"
     ]
    }
   ],
   "source": [
    "# Ans : We can use figure(figsize=(10,8)) function inside the matplot.pyplot library which we scale \n",
    "#       down or up the graph.\n",
    "figure(figsize=(10,8))"
   ]
  },
  {
   "cell_type": "markdown",
   "id": "f03f12be",
   "metadata": {},
   "source": [
    "# Q5. Compare and contrast the three types of array multiplication between two numpy arrays: dot product, outer product, and regular multiplication of two numpy arrays."
   ]
  },
  {
   "cell_type": "code",
   "execution_count": 28,
   "id": "5c187c90",
   "metadata": {},
   "outputs": [
    {
     "name": "stdout",
     "output_type": "stream",
     "text": [
      "[[1 2 3]\n",
      " [4 5 6]\n",
      " [6 7 8]]\n",
      "\n",
      "[[10 20 30]\n",
      " [40 50 60]\n",
      " [60 70 80]]\n"
     ]
    }
   ],
   "source": [
    "# Ans : \n",
    "import numpy as np\n",
    "a1=np.array([[1,2,3],[4,5,6],[6,7,8]])\n",
    "a2=np.array([[10,20,30],[40,50,60],[60,70,80]])\n",
    "\n",
    "# suppose above are the two arrays of shape 3 x 3\n",
    "print(a1)\n",
    "print()\n",
    "print(a2)"
   ]
  },
  {
   "cell_type": "code",
   "execution_count": 32,
   "id": "3b44a903",
   "metadata": {},
   "outputs": [
    {
     "data": {
      "text/plain": [
       "array([[ 10,  20,  30,  40,  50,  60,  60,  70,  80],\n",
       "       [ 20,  40,  60,  80, 100, 120, 120, 140, 160],\n",
       "       [ 30,  60,  90, 120, 150, 180, 180, 210, 240],\n",
       "       [ 40,  80, 120, 160, 200, 240, 240, 280, 320],\n",
       "       [ 50, 100, 150, 200, 250, 300, 300, 350, 400],\n",
       "       [ 60, 120, 180, 240, 300, 360, 360, 420, 480],\n",
       "       [ 60, 120, 180, 240, 300, 360, 360, 420, 480],\n",
       "       [ 70, 140, 210, 280, 350, 420, 420, 490, 560],\n",
       "       [ 80, 160, 240, 320, 400, 480, 480, 560, 640]])"
      ]
     },
     "execution_count": 32,
     "metadata": {},
     "output_type": "execute_result"
    }
   ],
   "source": [
    "#standard multiplication\n",
    "a1*a2\n",
    "\n",
    "# When we do standard multiplication in that case values of the same indexes in the array will get multiply. \n",
    "# Like in above example. A1(i,j) x A2(i,j)\n",
    "# dot product\n",
    "np.dot(a1,a2)\n",
    "\n",
    "# In case of dot product vector, multiplication will take place between row of first array and column of secodn array \n",
    "# .respectively. Like first row of array a1 will be multiply by column value of array a2 one by one and then added.\n",
    "#outer multiplication\n",
    "np.outer(a1,a2)"
   ]
  },
  {
   "cell_type": "markdown",
   "id": "7ca23e5d",
   "metadata": {},
   "source": [
    "# Q6. Before you buy a home, which numpy function will you use to measure your monthly mortgage payment?"
   ]
  },
  {
   "cell_type": "code",
   "execution_count": 33,
   "id": "91a42efb",
   "metadata": {},
   "outputs": [],
   "source": [
    "# Ans : np.pmt(rate, nper, pv) function we will be using in order to calculate monthly mortgage payment before\n",
    "#       you purchase a house\n",
    "#       rate = The periodic interest rate\n",
    "#       nper = The number of payment periods\n",
    "#       pv = The total value of the mortgage loan"
   ]
  },
  {
   "cell_type": "markdown",
   "id": "352e2a77",
   "metadata": {},
   "source": [
    "# Q7. Can array-to-scalar operations use combined operation-assign operators (such as += or *=)? What is the outcome?"
   ]
  },
  {
   "cell_type": "code",
   "execution_count": 6,
   "id": "e2e06e1f",
   "metadata": {},
   "outputs": [
    {
     "name": "stdout",
     "output_type": "stream",
     "text": [
      "[[0 1 2]\n",
      " [3 4 5]\n",
      " [6 7 8]]\n"
     ]
    }
   ],
   "source": [
    "# Ans : It will do the operation as per operators. Like if we use + operand it will update the current array by adding \n",
    "#       and when we use '*', it will update by multiplying.\n",
    "#      Example :\n",
    "print(a)"
   ]
  },
  {
   "cell_type": "code",
   "execution_count": 7,
   "id": "c697be5b",
   "metadata": {},
   "outputs": [
    {
     "name": "stdout",
     "output_type": "stream",
     "text": [
      "[[1 2 3]\n",
      " [4 5 6]\n",
      " [7 8 9]]\n",
      "[[ 2  4  6]\n",
      " [ 8 10 12]\n",
      " [14 16 18]]\n"
     ]
    }
   ],
   "source": [
    "a+=1\n",
    "print(a)\n",
    "a*=2\n",
    "print(a)"
   ]
  },
  {
   "cell_type": "markdown",
   "id": "8900c5df",
   "metadata": {},
   "source": [
    "# Q8. Does a numpy array contain fixed-length strings? What happens if you allocate a longer string to one of these arrays?"
   ]
  },
  {
   "cell_type": "code",
   "execution_count": 8,
   "id": "f6d94143",
   "metadata": {},
   "outputs": [
    {
     "data": {
      "text/plain": [
       "array(['ram', 'mohan', 'shiva'], dtype='<U5')"
      ]
     },
     "execution_count": 8,
     "metadata": {},
     "output_type": "execute_result"
    }
   ],
   "source": [
    "# Ans : Yes it is possible that we can include a string of fixed length in numpy array. The dtype of any numpy array \n",
    "#       containing string values is the maximum length of any string present in the array.\n",
    "#       Once set, it will only be able to store new string having length not more than the maximum length at the time \n",
    "#       of the creation. If we try to reassign some another string value having length greater than the maximum length\n",
    "#       of the existing elements, it simply discards all the values beyond the maximum length accept upto those values \n",
    "#       which are under the limit.\n",
    "import numpy as np\n",
    "name = np.array(['ram', 'mohan', 'shiva'])\n",
    "name"
   ]
  },
  {
   "cell_type": "code",
   "execution_count": 9,
   "id": "6cc8ee6d",
   "metadata": {},
   "outputs": [
    {
     "name": "stdout",
     "output_type": "stream",
     "text": [
      "['under' 'mohan' 'shiva']\n"
     ]
    }
   ],
   "source": [
    "name[name=='ram']='undertaker'\n",
    "print(name)"
   ]
  },
  {
   "cell_type": "markdown",
   "id": "10844535",
   "metadata": {},
   "source": [
    "# Q9. What happens when you combine two numpy arrays using an operation like addition (+) or multiplication (*)? What are the conditions for combining two numpy arrays?"
   ]
  },
  {
   "cell_type": "code",
   "execution_count": 10,
   "id": "d2b1fcf1",
   "metadata": {},
   "outputs": [
    {
     "data": {
      "text/plain": [
       "array([[ 2,  4,  6],\n",
       "       [ 8, 10, 12],\n",
       "       [14, 16, 18]])"
      ]
     },
     "execution_count": 10,
     "metadata": {},
     "output_type": "execute_result"
    }
   ],
   "source": [
    "# Ans : It will simply add or multiply element to element at same position.The only requirement which must be met are:\n",
    "#      1)Data type should be same.\n",
    "#      2) Shape of the two matrices must be same\n",
    "#      Example is as follows :\n",
    "a1=a\n",
    "a1"
   ]
  },
  {
   "cell_type": "code",
   "execution_count": 11,
   "id": "9cbfb5cb",
   "metadata": {},
   "outputs": [
    {
     "data": {
      "text/plain": [
       "array([[ 4,  6,  8],\n",
       "       [10, 12, 14],\n",
       "       [16, 18, 20]])"
      ]
     },
     "execution_count": 11,
     "metadata": {},
     "output_type": "execute_result"
    }
   ],
   "source": [
    "a2=a+2\n",
    "a2"
   ]
  },
  {
   "cell_type": "code",
   "execution_count": 12,
   "id": "cebd9212",
   "metadata": {},
   "outputs": [
    {
     "data": {
      "text/plain": [
       "array([[ 6, 10, 14],\n",
       "       [18, 22, 26],\n",
       "       [30, 34, 38]])"
      ]
     },
     "execution_count": 12,
     "metadata": {},
     "output_type": "execute_result"
    }
   ],
   "source": [
    "a1+a2"
   ]
  },
  {
   "cell_type": "code",
   "execution_count": 15,
   "id": "ba7c350c",
   "metadata": {},
   "outputs": [
    {
     "data": {
      "text/plain": [
       "array([[  8,  24,  48],\n",
       "       [ 80, 120, 168],\n",
       "       [224, 288, 360]])"
      ]
     },
     "execution_count": 15,
     "metadata": {},
     "output_type": "execute_result"
    }
   ],
   "source": [
    "a1*a2"
   ]
  },
  {
   "cell_type": "markdown",
   "id": "1b20b6ac",
   "metadata": {},
   "source": [
    "# Q10. What is the best way to use a Boolean array to mask another array?"
   ]
  },
  {
   "cell_type": "code",
   "execution_count": 17,
   "id": "2d77c889",
   "metadata": {},
   "outputs": [
    {
     "name": "stdout",
     "output_type": "stream",
     "text": [
      "[True, True, masked, masked]\n",
      "1\n"
     ]
    }
   ],
   "source": [
    "# Ans : \n",
    "y = np.array([True,True,False,True])          \n",
    "x = np.array([1,2,3,4])         \n",
    "m = np.ma.masked_where(x>2,y)  \n",
    "print(list(m))\n",
    "print(m.ndim)"
   ]
  },
  {
   "cell_type": "markdown",
   "id": "0c3feaa5",
   "metadata": {},
   "source": [
    "# Q11. What are three different ways to get the standard deviation of a wide collection of data using both standard Python and its packages? Sort the three of them by how quickly they execute."
   ]
  },
  {
   "cell_type": "code",
   "execution_count": 22,
   "id": "e9aeb954",
   "metadata": {},
   "outputs": [
    {
     "ename": "TypeError",
     "evalue": "only size-1 arrays can be converted to Python scalars",
     "output_type": "error",
     "traceback": [
      "\u001b[1;31m---------------------------------------------------------------------------\u001b[0m",
      "\u001b[1;31mTypeError\u001b[0m                                 Traceback (most recent call last)",
      "Input \u001b[1;32mIn [22]\u001b[0m, in \u001b[0;36m<cell line: 9>\u001b[1;34m()\u001b[0m\n\u001b[0;32m      7\u001b[0m total\u001b[38;5;241m=\u001b[39mN\n\u001b[0;32m      8\u001b[0m x\u001b[38;5;241m=\u001b[39m[\u001b[38;5;241m1\u001b[39m,\u001b[38;5;241m2\u001b[39m]\n\u001b[1;32m----> 9\u001b[0m SD\u001b[38;5;241m=\u001b[39m\u001b[43mmath\u001b[49m\u001b[38;5;241;43m.\u001b[39;49m\u001b[43msqrt\u001b[49m\u001b[43m(\u001b[49m\u001b[43m(\u001b[49m\u001b[38;5;241;43m1\u001b[39;49m\u001b[38;5;241;43m-\u001b[39;49m\u001b[43ma\u001b[49m\u001b[43m)\u001b[49m\u001b[38;5;241;43m*\u001b[39;49m\u001b[38;5;241;43m*\u001b[39;49m\u001b[38;5;241;43m2\u001b[39;49m\u001b[38;5;241;43m+\u001b[39;49m\u001b[43m(\u001b[49m\u001b[38;5;241;43m2\u001b[39;49m\u001b[38;5;241;43m-\u001b[39;49m\u001b[43ma\u001b[49m\u001b[43m)\u001b[49m\u001b[38;5;241;43m*\u001b[39;49m\u001b[38;5;241;43m*\u001b[39;49m\u001b[38;5;241;43m2\u001b[39;49m\u001b[38;5;241;43m/\u001b[39;49m\u001b[43mN\u001b[49m\u001b[43m)\u001b[49m\n",
      "\u001b[1;31mTypeError\u001b[0m: only size-1 arrays can be converted to Python scalars"
     ]
    }
   ],
   "source": [
    "# Ans : Standard deviation can be calculated in many ways. If wee see the formula of SD, it says \n",
    "#       std= Square Root of [ Summation of [square of (x-mean)/number of observation] ] .So this can be achive by:\n",
    "#       1)Using math module :\n",
    "import math\n",
    "N = 1\n",
    "avg=a\n",
    "total=N\n",
    "x=[1,2]\n",
    "SD=math.sqrt((1-a)**2+(2-a)**2/N)"
   ]
  },
  {
   "cell_type": "code",
   "execution_count": 23,
   "id": "236b6c12",
   "metadata": {},
   "outputs": [],
   "source": [
    "#       2)Using Numpy Array package\n",
    "import numpy as np\n",
    "SD=np.std(x)"
   ]
  },
  {
   "cell_type": "code",
   "execution_count": 24,
   "id": "ce1dc389",
   "metadata": {},
   "outputs": [],
   "source": [
    "#       3) General calculation without using any package\n",
    "SD= (((1-avg)**2 + (2-avg)**2)/N)**1/2"
   ]
  }
 ],
 "metadata": {
  "kernelspec": {
   "display_name": "Python 3 (ipykernel)",
   "language": "python",
   "name": "python3"
  },
  "language_info": {
   "codemirror_mode": {
    "name": "ipython",
    "version": 3
   },
   "file_extension": ".py",
   "mimetype": "text/x-python",
   "name": "python",
   "nbconvert_exporter": "python",
   "pygments_lexer": "ipython3",
   "version": "3.9.2"
  }
 },
 "nbformat": 4,
 "nbformat_minor": 5
}
