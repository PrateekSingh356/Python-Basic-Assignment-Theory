{
 "cells": [
  {
   "cell_type": "markdown",
   "id": "e49e35c0",
   "metadata": {},
   "source": [
    "# Assignment 21"
   ]
  },
  {
   "cell_type": "markdown",
   "id": "d470998c",
   "metadata": {},
   "source": [
    "# 1. Add the current date to the text file today.txt as a string."
   ]
  },
  {
   "cell_type": "code",
   "execution_count": 4,
   "id": "7ee30680",
   "metadata": {},
   "outputs": [
    {
     "data": {
      "text/plain": [
       "10"
      ]
     },
     "execution_count": 4,
     "metadata": {},
     "output_type": "execute_result"
    }
   ],
   "source": [
    "from datetime import date\n",
    "f = open('today.txt','a')\n",
    "f.write(str(date.today()))"
   ]
  },
  {
   "cell_type": "code",
   "execution_count": 5,
   "id": "9c257a14",
   "metadata": {},
   "outputs": [],
   "source": [
    "f.close()"
   ]
  },
  {
   "cell_type": "markdown",
   "id": "f03f12be",
   "metadata": {},
   "source": [
    "# 2. Read the text file today.txt into the string today_string"
   ]
  },
  {
   "cell_type": "code",
   "execution_count": 13,
   "id": "4b4dab2d",
   "metadata": {},
   "outputs": [
    {
     "data": {
      "text/plain": [
       "['2022-07-05']"
      ]
     },
     "execution_count": 13,
     "metadata": {},
     "output_type": "execute_result"
    }
   ],
   "source": [
    "f = open('today.txt', 'r')\n",
    "today_string = f.readlines()\n",
    "today_string"
   ]
  },
  {
   "cell_type": "markdown",
   "id": "c4e318fe",
   "metadata": {},
   "source": [
    "# 3. Parse the date from today_string."
   ]
  },
  {
   "cell_type": "code",
   "execution_count": 14,
   "id": "edad0081",
   "metadata": {},
   "outputs": [],
   "source": [
    "fmt = '%Y-%m-%d\\n'"
   ]
  },
  {
   "cell_type": "markdown",
   "id": "88042191",
   "metadata": {},
   "source": [
    "datetime.strptime(today_string, fmt) "
   ]
  },
  {
   "cell_type": "markdown",
   "id": "4f53452f",
   "metadata": {},
   "source": [
    "# 4. List the files in your current directory"
   ]
  },
  {
   "cell_type": "code",
   "execution_count": 18,
   "id": "ec125b20",
   "metadata": {},
   "outputs": [
    {
     "data": {
      "text/plain": [
       "['.android',\n",
       " '.cache',\n",
       " '.conda',\n",
       " '.condarc',\n",
       " '.cufflinks',\n",
       " '.eclipse',\n",
       " '.emulator_console_auth_token',\n",
       " '.gradle',\n",
       " '.ipynb_checkpoints',\n",
       " '.ipython',\n",
       " '.jupyter',\n",
       " '.matplotlib',\n",
       " '.p2',\n",
       " '.pyforest',\n",
       " '.python_history',\n",
       " '.VirtualBox',\n",
       " '.vscode',\n",
       " '3D Objects',\n",
       " 'airline.xls',\n",
       " 'anaconda3',\n",
       " 'AndroidStudioProjects',\n",
       " 'AppData',\n",
       " 'Application Data',\n",
       " 'basketball_players.csv',\n",
       " 'battery-report.html',\n",
       " 'books.csv',\n",
       " 'books.db',\n",
       " 'BullseyeCoverageError.txt',\n",
       " 'Contacts',\n",
       " 'Cookies',\n",
       " 'Desktop',\n",
       " 'Documents',\n",
       " 'Downloads',\n",
       " 'eclipse',\n",
       " 'eclipse-workspace',\n",
       " 'Excel_Assignment_2.ipynb',\n",
       " 'Favorites',\n",
       " 'file1',\n",
       " 'file1.txt',\n",
       " 'hello_world',\n",
       " 'Housing Prediction.ipynb',\n",
       " 'IdeaProjects',\n",
       " 'ineuronpractice',\n",
       " 'IntelGraphicsProfiles',\n",
       " 'java_error_in_pycharm_15764.log',\n",
       " 'jsonToCsv.csv',\n",
       " 'Links',\n",
       " 'Local Settings',\n",
       " 'logging',\n",
       " 'LUSID Excel - Business Agility - Making Simple Changes Quickly & Easily.xlsx',\n",
       " 'Microsoft',\n",
       " 'MicrosoftEdgeBackups',\n",
       " 'Music',\n",
       " 'mvi',\n",
       " 'My Documents',\n",
       " 'my_pickle',\n",
       " 'NetHood',\n",
       " 'new_book.txt',\n",
       " 'NTUSER.DAT',\n",
       " 'ntuser.dat.LOG1',\n",
       " 'ntuser.dat.LOG2',\n",
       " 'NTUSER.DAT{b0fda5f3-a881-11ec-bde3-e77eb0ea2e3f}.TM.blf',\n",
       " 'NTUSER.DAT{b0fda5f3-a881-11ec-bde3-e77eb0ea2e3f}.TMContainer00000000000000000001.regtrans-ms',\n",
       " 'NTUSER.DAT{b0fda5f3-a881-11ec-bde3-e77eb0ea2e3f}.TMContainer00000000000000000002.regtrans-ms',\n",
       " 'ntuser.ini',\n",
       " 'OneDrive',\n",
       " 'Pandas session 1 (1).ipynb',\n",
       " 'Pictures',\n",
       " 'pip',\n",
       " 'Postman',\n",
       " 'PrintHood',\n",
       " 'PycharmProjects',\n",
       " 'Python basic Assignment 21.ipynb',\n",
       " 'Python_Advance_Programming_Assignment.ipynb',\n",
       " 'Recent',\n",
       " 'Roaming',\n",
       " 'Saved Games',\n",
       " 'seaborn-data',\n",
       " 'seaborn_part1.ipynb',\n",
       " 'Searches',\n",
       " 'SendTo',\n",
       " 'Start Menu',\n",
       " 'Templates',\n",
       " 'test.txt',\n",
       " 'text.py',\n",
       " 'tipshead.csv',\n",
       " 'tipshead2.csv',\n",
       " 'today.txt',\n",
       " 'Untitled.ipynb',\n",
       " 'Untitled1.ipynb',\n",
       " 'Untitled2.ipynb',\n",
       " 'Untitled3.ipynb',\n",
       " 'Untitled4.ipynb',\n",
       " 'Untitled5.ipynb',\n",
       " 'Untitled_data_visualization.ipynb',\n",
       " 'Videos',\n",
       " 'welcome.html']"
      ]
     },
     "execution_count": 18,
     "metadata": {},
     "output_type": "execute_result"
    }
   ],
   "source": [
    "import os\n",
    "os.listdir()"
   ]
  },
  {
   "cell_type": "markdown",
   "id": "94715d56",
   "metadata": {},
   "source": [
    "# 5. Create a list of all of the files in your parent directory (minimum five files should be available)."
   ]
  },
  {
   "cell_type": "code",
   "execution_count": 19,
   "id": "bc7baf2f",
   "metadata": {},
   "outputs": [
    {
     "data": {
      "text/plain": [
       "['All Users',\n",
       " 'anyone',\n",
       " 'Default',\n",
       " 'Default User',\n",
       " 'desktop.ini',\n",
       " 'prateek',\n",
       " 'Public',\n",
       " 'python']"
      ]
     },
     "execution_count": 19,
     "metadata": {},
     "output_type": "execute_result"
    }
   ],
   "source": [
    "os.listdir('..')"
   ]
  },
  {
   "cell_type": "markdown",
   "id": "9e2fbf59",
   "metadata": {},
   "source": [
    "# 6. Use multiprocessing to create three separate processes. Make each one wait a random number of seconds between one and five, print the current time, and then exit."
   ]
  },
  {
   "cell_type": "markdown",
   "id": "61470927",
   "metadata": {},
   "source": [
    "!pip install zoo\n",
    "import multiprocessing,time,datetime\n",
    "import zoo \n",
    "\n",
    "def process1():\n",
    "    t1 = random.randint(1,5)\n",
    "    print(\"Waiting for \"+str(t1)+\" seconds\")\n",
    "    time.sleep(t1)\n",
    "    print(datetime.datetime.now())\n",
    "\n",
    "\n",
    "start = time.time()\n",
    "process1 = zoo.process1()\n",
    "process2 = zoo.process1()\n",
    "process3 = zoo.process1()\n",
    "\n",
    "print(datetime.datetime.now())\n",
    "if __name__==\"__main__\":\n",
    "    \n",
    "    \n",
    "    \n",
    "    p1 = multiprocessing.Process(target=process1)\n",
    "    p2 = multiprocessing.Process(target=process1)\n",
    "    p3 = multiprocessing.Process(target=process1)\n",
    "\n",
    "    p1.start()\n",
    "    p2.start()\n",
    "    p3.start()\n",
    "\n",
    "    p1.join()\n",
    "    p2.join()\n",
    "    p3.join()\n",
    "\n",
    "end = time.time()\n",
    "    \n",
    "\n",
    "print(\"It takes \" +str(end-start)+\" seconds\")\n"
   ]
  },
  {
   "cell_type": "markdown",
   "id": "f7166f7e",
   "metadata": {},
   "source": [
    "# 7. Create a date object of your day of birth."
   ]
  },
  {
   "cell_type": "code",
   "execution_count": 48,
   "id": "ad456bfa",
   "metadata": {},
   "outputs": [
    {
     "data": {
      "text/plain": [
       "datetime.date(2003, 4, 9)"
      ]
     },
     "execution_count": 48,
     "metadata": {},
     "output_type": "execute_result"
    }
   ],
   "source": [
    "bday = date(2003,4,9)\n",
    "bday"
   ]
  },
  {
   "cell_type": "markdown",
   "id": "08979a03",
   "metadata": {},
   "source": [
    "# 8. What day of the week was your day of birth?"
   ]
  },
  {
   "cell_type": "code",
   "execution_count": 52,
   "id": "05a65aef",
   "metadata": {},
   "outputs": [
    {
     "data": {
      "text/plain": [
       "3"
      ]
     },
     "execution_count": 52,
     "metadata": {},
     "output_type": "execute_result"
    }
   ],
   "source": [
    "bday = date(2003,4,9)\n",
    "bday.isoweekday()\n",
    "# Wednesday"
   ]
  },
  {
   "cell_type": "markdown",
   "id": "56564289",
   "metadata": {},
   "source": [
    "# 9. When will you be (or when were you) 10,000 days old?"
   ]
  },
  {
   "cell_type": "code",
   "execution_count": 53,
   "id": "0cec3357",
   "metadata": {},
   "outputs": [
    {
     "ename": "TypeError",
     "evalue": "unsupported operand type(s) for +: 'datetime.date' and 'int'",
     "output_type": "error",
     "traceback": [
      "\u001b[1;31m---------------------------------------------------------------------------\u001b[0m",
      "\u001b[1;31mTypeError\u001b[0m                                 Traceback (most recent call last)",
      "Input \u001b[1;32mIn [53]\u001b[0m, in \u001b[0;36m<cell line: 1>\u001b[1;34m()\u001b[0m\n\u001b[1;32m----> 1\u001b[0m \u001b[43mbday\u001b[49m\u001b[43m \u001b[49m\u001b[38;5;241;43m+\u001b[39;49m\u001b[43m \u001b[49m\u001b[38;5;241;43m10000\u001b[39;49m\n",
      "\u001b[1;31mTypeError\u001b[0m: unsupported operand type(s) for +: 'datetime.date' and 'int'"
     ]
    }
   ],
   "source": [
    "import datetime\n",
    "bday + date10000"
   ]
  },
  {
   "cell_type": "code",
   "execution_count": null,
   "id": "6b39936e",
   "metadata": {},
   "outputs": [],
   "source": []
  }
 ],
 "metadata": {
  "kernelspec": {
   "display_name": "Python 3 (ipykernel)",
   "language": "python",
   "name": "python3"
  },
  "language_info": {
   "codemirror_mode": {
    "name": "ipython",
    "version": 3
   },
   "file_extension": ".py",
   "mimetype": "text/x-python",
   "name": "python",
   "nbconvert_exporter": "python",
   "pygments_lexer": "ipython3",
   "version": "3.9.2"
  }
 },
 "nbformat": 4,
 "nbformat_minor": 5
}
