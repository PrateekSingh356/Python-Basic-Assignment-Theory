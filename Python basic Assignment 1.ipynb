{
 "cells": [
  {
   "cell_type": "markdown",
   "id": "b3811d52",
   "metadata": {},
   "source": [
    "# Question 1"
   ]
  },
  {
   "cell_type": "markdown",
   "id": "2769fbb0",
   "metadata": {},
   "source": [
    "1. In the below elements which of them are values or an expression? eg:- values can be integer or string and expressions will be mathematical operators.\n",
    "\n",
    "'hello'-->values \n",
    "\n",
    "-87.8---->values \n",
    "\n",
    "6-------->values\n",
    "\n",
    "------->expression / ------->expression\n",
    "\n",
    "------->expression"
   ]
  },
  {
   "cell_type": "markdown",
   "id": "fb465564",
   "metadata": {},
   "source": [
    "# Question 2\n",
    "2. What is the difference between string and variable?\n",
    "a)A string is a literal text string, i.e. 'Hello'. whereas A variable is something that stores data - it can store a string, int, float, class, etc.\n",
    "\n",
    "b)All strings are variables, but not all variables are strings.\n",
    "\n",
    "c)Variables in programs are references to values that have types. String is simply one of the handful of types that Python uses along with various number types, collection types (list, string , tuple, dict, and set), objects and a few more.\n",
    "\n",
    "d)A variable can hold a string, but a string can't hold a variable.\n",
    "\n",
    "e)A variable is basically the name of the location in the primary memory of your computer. This can be chosen by you. A variable can store everything from strings to numbers. whereas A string is the values inside the quotes assigned to a string.\n",
    "\n",
    "f)In python anything you assign to a variable using quotes (single or double) will be considered as a string. Thus, a string is one of several types of a variable.\n",
    "\n",
    "a = \"10\" b = \"20\" print(a+b) #prints 1020\n",
    "\n",
    "a = 10 b = 20 print(a+b) #prints 30 So, in the above example, (a+b) returns 1020 in the first case (string concatenation of 10 and 20), whereas in the second case, it returns 30 since it interprets a and b as integers at run-time.\n",
    "\n",
    "g)The string is 'spam'; the variable is spam. Strings always start and end with quotes.\n",
    "\n",
    "Describe three different data types.\n",
    "a)List is a collection which is ordered and changeable. Allows duplicate members. ex:-mylist = [\"apple\", \"banana\", \"cherry\"]\n",
    "\n",
    "b)Tuple is a collection which is ordered and unchangeable. Allows duplicate members. ex:-tuple1 = (\"abc\", 34, True, 40, \"male\")\n",
    "\n",
    "c)Set is a collection which is unordered and unindexed. No duplicate members. ex:-myset = {\"apple\", \"banana\", \"cherry\"}\n",
    "\n",
    "d)Dictionary is a collection which is ordered* and changeable. No duplicate members. ex:-thisdict = { \"brand\": \"Ford\", \"model\": \"Mustang\", \"year\": 1964 }"
   ]
  },
  {
   "cell_type": "markdown",
   "id": "6f580b47",
   "metadata": {},
   "source": [
    "# Question 4\n",
    "4. What is an expression made up of? What do all expressions do?\n",
    "An expression is a combination of values and operators. All expressions evaluate (that is, reduce) to a single value."
   ]
  },
  {
   "cell_type": "markdown",
   "id": "c4e9b01e",
   "metadata": {},
   "source": [
    "# Question 5"
   ]
  },
  {
   "cell_type": "raw",
   "id": "209cb339",
   "metadata": {},
   "source": [
    "5. This assignment statements, like spam = 10. What is the difference between an expression and a statement?\n",
    "a)An expression evaluates to a single value. A statement does not.\n",
    "\n",
    "b)Statements represent an action or command e.g print statements, assignment statements.\n",
    "\n",
    "print 'hello', x = 1, spam = 10.\n",
    "\n",
    "whereas\n",
    "\n",
    "Expression is a combination of variables, operations and values that yields a result value.\n",
    "\n",
    "5 * 5 # yields 25"
   ]
  },
  {
   "cell_type": "markdown",
   "id": "8ebfd3aa",
   "metadata": {},
   "source": [
    "# Question 6"
   ]
  },
  {
   "cell_type": "markdown",
   "id": "5bd21d31",
   "metadata": {},
   "source": [
    "6. After running the following code, what does the variable bacon contain?\n",
    "bacon = 22 bacon + 1"
   ]
  },
  {
   "cell_type": "code",
   "execution_count": 1,
   "id": "8d6be831",
   "metadata": {},
   "outputs": [
    {
     "data": {
      "text/plain": [
       "23"
      ]
     },
     "execution_count": 1,
     "metadata": {},
     "output_type": "execute_result"
    }
   ],
   "source": [
    "bacon = 22\n",
    "bacon + 1"
   ]
  },
  {
   "cell_type": "markdown",
   "id": "58f34433",
   "metadata": {},
   "source": [
    "# Question 7"
   ]
  },
  {
   "cell_type": "raw",
   "id": "8c9f35b4",
   "metadata": {},
   "source": [
    "7. What should the values of the following two terms be?\n",
    "'spam' + 'spamspam' 'spam' * 3"
   ]
  },
  {
   "cell_type": "code",
   "execution_count": 2,
   "id": "e6cda49a",
   "metadata": {},
   "outputs": [
    {
     "data": {
      "text/plain": [
       "'spamspamspam'"
      ]
     },
     "execution_count": 2,
     "metadata": {},
     "output_type": "execute_result"
    }
   ],
   "source": [
    " 'spam' + 'spamspam'"
   ]
  },
  {
   "cell_type": "code",
   "execution_count": 3,
   "id": "99cf4216",
   "metadata": {},
   "outputs": [
    {
     "data": {
      "text/plain": [
       "'spamspamspam'"
      ]
     },
     "execution_count": 3,
     "metadata": {},
     "output_type": "execute_result"
    }
   ],
   "source": [
    "'spam'*3"
   ]
  },
  {
   "cell_type": "markdown",
   "id": "176e6273",
   "metadata": {},
   "source": [
    "# Question 8"
   ]
  },
  {
   "cell_type": "raw",
   "id": "8be12f24",
   "metadata": {},
   "source": [
    "8. Why is eggs a valid variable name while 100 is invalid?\n",
    "Variable names cannot begin with a number."
   ]
  },
  {
   "cell_type": "markdown",
   "id": "2bb80cb3",
   "metadata": {},
   "source": [
    "# Question 9"
   ]
  },
  {
   "cell_type": "raw",
   "id": "20f18d54",
   "metadata": {},
   "source": [
    "9. What three functions can be used to get the integer, floating-point number, or string version of a value?\n",
    "The int(), float(), and str() functions will evaluate to the integer, floating-point number, and string versions of the value passed to them."
   ]
  },
  {
   "cell_type": "markdown",
   "id": "03f6eb0f",
   "metadata": {},
   "source": [
    "# Question 10"
   ]
  },
  {
   "cell_type": "raw",
   "id": "1856eb5f",
   "metadata": {},
   "source": [
    "10. Why does this expression cause an error? How can you fix it?\n",
    "'I have eaten ' + 99 + ' burritos.'\n",
    "\n",
    "The expression causes an error because 99 is an integer, and only strings can be concatenated to other strings with the + operator. The correct way is I have eaten ' + str(99) + ' burritos.'."
   ]
  }
 ],
 "metadata": {
  "kernelspec": {
   "display_name": "Python 3 (ipykernel)",
   "language": "python",
   "name": "python3"
  },
  "language_info": {
   "codemirror_mode": {
    "name": "ipython",
    "version": 3
   },
   "file_extension": ".py",
   "mimetype": "text/x-python",
   "name": "python",
   "nbconvert_exporter": "python",
   "pygments_lexer": "ipython3",
   "version": "3.9.2"
  }
 },
 "nbformat": 4,
 "nbformat_minor": 5
}
