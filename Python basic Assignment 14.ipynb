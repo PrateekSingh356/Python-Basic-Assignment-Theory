{
 "cells": [
  {
   "cell_type": "markdown",
   "id": "e49e35c0",
   "metadata": {},
   "source": [
    "# Assignment 14"
   ]
  },
  {
   "cell_type": "markdown",
   "id": "d470998c",
   "metadata": {},
   "source": [
    "# 1. What does RGBA stand for?\n",
    "An RGBA value is a tuple of 4 integers, each ranging from 0 to 255. The four integers correspond to the amount of red, green, blue, and alpha (transparency) in the color."
   ]
  },
  {
   "cell_type": "markdown",
   "id": "f03f12be",
   "metadata": {},
   "source": [
    "# 2. From the Pillow module, how do you get the RGBA value of any images?\n",
    "A function call to ImageColor.getcolor('CornflowerBlue', 'RGBA') will return (100, 149, 237, 255), the RGBA value for that color."
   ]
  },
  {
   "cell_type": "markdown",
   "id": "c4e318fe",
   "metadata": {},
   "source": [
    "# 3. What is a box tuple, and how does it work?\n",
    "A box tuple is a tuple value of four integers: the left-edge x-coordinate, the top-edge y-coordinate, the width, and the height, respectively."
   ]
  },
  {
   "cell_type": "markdown",
   "id": "6b754d0d",
   "metadata": {},
   "source": [
    "# 4. What method takes a list argument and writes it to a CSV file?\n",
    "The writerow() method"
   ]
  },
  {
   "cell_type": "markdown",
   "id": "4f53452f",
   "metadata": {},
   "source": [
    "# 5. What do the keyword arguments delimiter and line terminator do?\n",
    "The delimiter argument changes the string used to separate cells in a row. The lineterminator argument changes the string used to separate rows."
   ]
  },
  {
   "cell_type": "markdown",
   "id": "fef36058",
   "metadata": {},
   "source": [
    "# 6. What function takes a string of JSON data and returns a Python data structure?\n",
    "json.loads()"
   ]
  },
  {
   "cell_type": "markdown",
   "id": "9e2fbf59",
   "metadata": {},
   "source": [
    "# 7. What function takes a Python data structure and returns a string of JSON data?\n",
    "json.dumps()"
   ]
  }
 ],
 "metadata": {
  "kernelspec": {
   "display_name": "Python 3 (ipykernel)",
   "language": "python",
   "name": "python3"
  },
  "language_info": {
   "codemirror_mode": {
    "name": "ipython",
    "version": 3
   },
   "file_extension": ".py",
   "mimetype": "text/x-python",
   "name": "python",
   "nbconvert_exporter": "python",
   "pygments_lexer": "ipython3",
   "version": "3.9.2"
  }
 },
 "nbformat": 4,
 "nbformat_minor": 5
}
