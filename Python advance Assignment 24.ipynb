{
 "cells": [
  {
   "cell_type": "markdown",
   "id": "e49e35c0",
   "metadata": {},
   "source": [
    "# Assignment 24"
   ]
  },
  {
   "cell_type": "markdown",
   "id": "d470998c",
   "metadata": {},
   "source": [
    "\n",
    "# Q1. Is it permissible to use several import statements to import the same module? What would the goal be? Can you think of a situation where it would be beneficial?"
   ]
  },
  {
   "cell_type": "code",
   "execution_count": 35,
   "id": "d5c97073",
   "metadata": {},
   "outputs": [],
   "source": [
    "# Ans : Yes we can use more than one import statement to import the same module more than once.\n",
    "#       This is com einto action when support we want to import some other function or class from the base \n",
    "#       class of any module for example.\n",
    "#       from sklearn.preprocessing import LabelEncoder\n",
    "#       from sklearn.linear_model import LinearRegression"
   ]
  },
  {
   "cell_type": "markdown",
   "id": "45d06bce",
   "metadata": {},
   "source": [
    "# Q2. What are some of a module's characteristics? (Name at least one.)"
   ]
  },
  {
   "cell_type": "code",
   "execution_count": 36,
   "id": "9c1bc396",
   "metadata": {},
   "outputs": [],
   "source": [
    "# Ans : name : It returns the name of the module. doc : It denotes the documentation string line written in a module \n",
    "#       code. file : It holds the name and path of the module file from which it is loaded . dict : It return a \n",
    "#       dictionary object of module attributes, functions and other definitions and their respective values."
   ]
  },
  {
   "cell_type": "markdown",
   "id": "21153306",
   "metadata": {},
   "source": [
    "# Q3. Circular importing, such as when two modules import each other, can lead to dependencies and bugs that aren't visible. How can you go about creating a program that avoids mutual importing?"
   ]
  },
  {
   "cell_type": "code",
   "execution_count": 37,
   "id": "28b04439",
   "metadata": {},
   "outputs": [],
   "source": [
    "# Ans : Circular importing means importing the two modules in each other. If suppose we are wokring in MOD1.py file \n",
    "#       and it is importing some function say F2() from some other module say MOD2.PY file or we can do vice-versa. \n",
    "#       What will happen is: This will give an import error. This is because when we import F2() function from module \n",
    "#       MOD2.py, then this will execute MOD2.py file. And in MOD2.py file there is an another statement of importing\n",
    "#       MOD1.py module. This will result in endless loop. To avoid this error just do one thing- We can use if \n",
    "#       name == 'main'.In the function, you can't directly refer to the function in the program. The addition of \n",
    "#       this sentence avoids the endless loop of the program"
   ]
  },
  {
   "cell_type": "markdown",
   "id": "0b3d983b",
   "metadata": {},
   "source": [
    "# Q4. Why is _ all _ in Python?"
   ]
  },
  {
   "cell_type": "code",
   "execution_count": 39,
   "id": "b29e3495",
   "metadata": {},
   "outputs": [],
   "source": [
    "# Ans : It specifies all the modules present in the particular library and those can be called when we use import *"
   ]
  },
  {
   "cell_type": "markdown",
   "id": "f03f12be",
   "metadata": {},
   "source": [
    "# Q5. Compare and contrast the three types of array multiplication between two numpy arrays: dot product, outer product, and regular multiplication of two numpy arrays."
   ]
  },
  {
   "cell_type": "code",
   "execution_count": 28,
   "id": "5c187c90",
   "metadata": {},
   "outputs": [
    {
     "name": "stdout",
     "output_type": "stream",
     "text": [
      "[[1 2 3]\n",
      " [4 5 6]\n",
      " [6 7 8]]\n",
      "\n",
      "[[10 20 30]\n",
      " [40 50 60]\n",
      " [60 70 80]]\n"
     ]
    }
   ],
   "source": [
    "# Ans : \n",
    "import numpy as np\n",
    "a1=np.array([[1,2,3],[4,5,6],[6,7,8]])\n",
    "a2=np.array([[10,20,30],[40,50,60],[60,70,80]])\n",
    "\n",
    "# suppose above are the two arrays of shape 3 x 3\n",
    "print(a1)\n",
    "print()\n",
    "print(a2)"
   ]
  },
  {
   "cell_type": "code",
   "execution_count": 32,
   "id": "8c840256",
   "metadata": {},
   "outputs": [
    {
     "data": {
      "text/plain": [
       "array([[ 10,  20,  30,  40,  50,  60,  60,  70,  80],\n",
       "       [ 20,  40,  60,  80, 100, 120, 120, 140, 160],\n",
       "       [ 30,  60,  90, 120, 150, 180, 180, 210, 240],\n",
       "       [ 40,  80, 120, 160, 200, 240, 240, 280, 320],\n",
       "       [ 50, 100, 150, 200, 250, 300, 300, 350, 400],\n",
       "       [ 60, 120, 180, 240, 300, 360, 360, 420, 480],\n",
       "       [ 60, 120, 180, 240, 300, 360, 360, 420, 480],\n",
       "       [ 70, 140, 210, 280, 350, 420, 420, 490, 560],\n",
       "       [ 80, 160, 240, 320, 400, 480, 480, 560, 640]])"
      ]
     },
     "execution_count": 32,
     "metadata": {},
     "output_type": "execute_result"
    }
   ],
   "source": [
    "#standard multiplication\n",
    "a1*a2\n",
    "\n",
    "# When we do standard multiplication in that case values of the same indexes in the array will get multiply. \n",
    "# Like in above example. A1(i,j) x A2(i,j)\n",
    "# dot product\n",
    "np.dot(a1,a2)\n",
    "\n",
    "# In case of dot product vector, multiplication will take place between row of first array and column of secodn array \n",
    "# .respectively. Like first row of array a1 will be multiply by column value of array a2 one by one and then added.\n",
    "#outer multiplication\n",
    "np.outer(a1,a2)"
   ]
  },
  {
   "cell_type": "markdown",
   "id": "7ca23e5d",
   "metadata": {},
   "source": [
    "# Q6. Before you buy a home, which numpy function will you use to measure your monthly mortgage payment?"
   ]
  },
  {
   "cell_type": "code",
   "execution_count": 33,
   "id": "91a42efb",
   "metadata": {},
   "outputs": [],
   "source": [
    "# Ans : np.pmt(rate, nper, pv) function we will be using in order to calculate monthly mortgage payment before\n",
    "#       you purchase a house\n",
    "#       rate = The periodic interest rate\n",
    "#       nper = The number of payment periods\n",
    "#       pv = The total value of the mortgage loan"
   ]
  },
  {
   "cell_type": "markdown",
   "id": "352e2a77",
   "metadata": {},
   "source": [
    "# Q7. Can string data be stored in numpy arrays? If so, list at least one restriction that applies to this data."
   ]
  },
  {
   "cell_type": "code",
   "execution_count": 34,
   "id": "8c6028dd",
   "metadata": {},
   "outputs": [],
   "source": [
    "# Ans : Yes an array can store the string.The limitation which imposed on the string data is, whenever we store the\n",
    "#       data of string dtype then it should should keep in mind that the string which is having the maximum length is\n",
    "#       the limit.\n",
    "#       The dtype value is the maximum length of a string in such data. Meaning suppose if any new string we wanted \n",
    "#       to add, then we can add only that string which have the length either equal to that dtype value or less than\n",
    "#       that. If any string which are adding and if its length is more than the dtype value then it will only accpet \n",
    "#        to maximum length and rest of the characters will not be included."
   ]
  }
 ],
 "metadata": {
  "kernelspec": {
   "display_name": "Python 3 (ipykernel)",
   "language": "python",
   "name": "python3"
  },
  "language_info": {
   "codemirror_mode": {
    "name": "ipython",
    "version": 3
   },
   "file_extension": ".py",
   "mimetype": "text/x-python",
   "name": "python",
   "nbconvert_exporter": "python",
   "pygments_lexer": "ipython3",
   "version": "3.9.2"
  }
 },
 "nbformat": 4,
 "nbformat_minor": 5
}
