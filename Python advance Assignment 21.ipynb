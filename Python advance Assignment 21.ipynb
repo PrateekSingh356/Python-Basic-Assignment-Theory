{
 "cells": [
  {
   "cell_type": "markdown",
   "id": "e49e35c0",
   "metadata": {},
   "source": [
    "# Assignment 21"
   ]
  },
  {
   "cell_type": "markdown",
   "id": "d470998c",
   "metadata": {},
   "source": [
    "\n",
    "# Q1. What is a probability distribution, exactly? If the values are meant to be random, how can you predict them at all?"
   ]
  },
  {
   "cell_type": "code",
   "execution_count": 1,
   "id": "d5c97073",
   "metadata": {},
   "outputs": [],
   "source": [
    "# Ans : A probability distribution describes how a random variable is distributed,it tells us which values a random \n",
    "#       variable is most likely to take on and which values are less likely.Based on the previous data and the \n",
    "#       occurences of the random event, we can predict the outcome in terms of probabilities."
   ]
  },
  {
   "cell_type": "markdown",
   "id": "45d06bce",
   "metadata": {},
   "source": [
    "# Q2. Is there a distinction between true random numbers and pseudo-random numbers, if there is one? Why are the latter considered “good enough”?"
   ]
  },
  {
   "cell_type": "code",
   "execution_count": 2,
   "id": "9c1bc396",
   "metadata": {},
   "outputs": [],
   "source": [
    "# Ans : The difference between true random number(TRN) and pseudo-random number(PRN), is that TRN's are unpredictable \n",
    "#       physical values means (like atmospheric noise), and PRN are generated using mathematical algorithms (completely\n",
    "#       computer-generated).The PRN's are good enough as they follow a uniform distribution and the seed for generating\n",
    "#       PRN is unpredictable and unknown."
   ]
  },
  {
   "cell_type": "markdown",
   "id": "21153306",
   "metadata": {},
   "source": [
    "# Q3. What are the two main factors that influence the behaviour of a \"normal\" probability distribution?"
   ]
  },
  {
   "cell_type": "code",
   "execution_count": 4,
   "id": "28b04439",
   "metadata": {},
   "outputs": [],
   "source": [
    "# Ans : A normal distribution is determined by two parameters the mean and the variance. A normal distribution with a \n",
    "#       mean of 0 and a standard deviation of 1 is called a standard normal distribution."
   ]
  },
  {
   "cell_type": "markdown",
   "id": "0b3d983b",
   "metadata": {},
   "source": [
    "# Q4. Provide a real-life example of a normal distribution."
   ]
  },
  {
   "cell_type": "code",
   "execution_count": 5,
   "id": "b29e3495",
   "metadata": {},
   "outputs": [],
   "source": [
    "# Ans : A fair rolling of dice is also a good example of normal distribution."
   ]
  },
  {
   "cell_type": "markdown",
   "id": "f03f12be",
   "metadata": {},
   "source": [
    "# Q5. In the short term, how can you expect a probability distribution to behave? What do you think will happen as the number of trials grows?"
   ]
  },
  {
   "cell_type": "code",
   "execution_count": 6,
   "id": "5c187c90",
   "metadata": {},
   "outputs": [],
   "source": [
    "# Ans : When trails are less, the variance will large. As the number of trials increase , the variance will reduce."
   ]
  },
  {
   "cell_type": "markdown",
   "id": "7ca23e5d",
   "metadata": {},
   "source": [
    "# Q6. What kind of object can be shuffled by using random.shuffle?"
   ]
  },
  {
   "cell_type": "code",
   "execution_count": 7,
   "id": "91a42efb",
   "metadata": {},
   "outputs": [],
   "source": [
    "# Ans : random.shuffle can used to shuffle list object"
   ]
  },
  {
   "cell_type": "markdown",
   "id": "352e2a77",
   "metadata": {},
   "source": [
    "# Q7. Describe the math package's general categories of functions."
   ]
  },
  {
   "cell_type": "code",
   "execution_count": 8,
   "id": "e2e06e1f",
   "metadata": {},
   "outputs": [],
   "source": [
    "# Ans : The general categories of math package are\n",
    "#       1) Trigonometric functions\n",
    "#       2)Quadratic functions\n",
    "#       3)Exponential functions\n",
    "#       4)Hyperbolic functions\n",
    "#       5)Periodic functions\n",
    "#       6)Arithmetic functions\n",
    "#       7)Logarithimic functions\n",
    "#       8)Conversions to Integer"
   ]
  },
  {
   "cell_type": "markdown",
   "id": "8900c5df",
   "metadata": {},
   "source": [
    "# Q8. What is the relationship between exponentiation and logarithms?"
   ]
  },
  {
   "cell_type": "code",
   "execution_count": 62,
   "id": "f6d94143",
   "metadata": {},
   "outputs": [
    {
     "name": "stdout",
     "output_type": "stream",
     "text": [
      "decimal= 0.01\n",
      "fraction= 1/100\n",
      "float value= 0.010000000000000002\n"
     ]
    }
   ],
   "source": [
    "# Ans : \n",
    "d=Decimal('0.1') * Decimal('0.1')\n",
    "print(\"decimal=\",d)\n",
    "frac=Fraction('1/10') * Fraction('1/10')\n",
    "print(\"fraction=\",frac)\n",
    "fl=0.1*0.1\n",
    "print(\"float value=\",fl)"
   ]
  },
  {
   "cell_type": "markdown",
   "id": "10844535",
   "metadata": {},
   "source": [
    "# Q9.Consider the following two fraction objects: Fraction(1, 2) and Fraction(1, 2). (5, 10). Is the internal state of these two objects the same? Why do you think that is?"
   ]
  },
  {
   "cell_type": "code",
   "execution_count": 63,
   "id": "d2b1fcf1",
   "metadata": {},
   "outputs": [
    {
     "name": "stdout",
     "output_type": "stream",
     "text": [
      "1/2\n",
      "1/2\n",
      "Fraction (1,2) and Fraction(5,10) are equal\n"
     ]
    }
   ],
   "source": [
    "# Ans : \n",
    "from fractions import Fraction\n",
    "frac1=Fraction(1, 2)\n",
    "print(frac1)\n",
    "frac2=Fraction(5, 10)\n",
    "print(frac2)\n",
    "if (frac1 == frac2 ):\n",
    "    print('Fraction (1,2) and Fraction(5,10) are equal')\n",
    "#    The internal state of both are same as Fraction(5,10) is reduced to simplest form. \n",
    "#    Hence 1/2 is printed in both the cases."
   ]
  },
  {
   "cell_type": "markdown",
   "id": "7c5dbff2",
   "metadata": {},
   "source": [
    "# "
   ]
  }
 ],
 "metadata": {
  "kernelspec": {
   "display_name": "Python 3 (ipykernel)",
   "language": "python",
   "name": "python3"
  },
  "language_info": {
   "codemirror_mode": {
    "name": "ipython",
    "version": 3
   },
   "file_extension": ".py",
   "mimetype": "text/x-python",
   "name": "python",
   "nbconvert_exporter": "python",
   "pygments_lexer": "ipython3",
   "version": "3.9.2"
  }
 },
 "nbformat": 4,
 "nbformat_minor": 5
}
