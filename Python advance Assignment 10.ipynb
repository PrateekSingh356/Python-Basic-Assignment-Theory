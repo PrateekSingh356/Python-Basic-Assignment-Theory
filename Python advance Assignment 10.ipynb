{
 "cells": [
  {
   "cell_type": "markdown",
   "id": "e49e35c0",
   "metadata": {},
   "source": [
    "# Assignment 10"
   ]
  },
  {
   "cell_type": "markdown",
   "id": "d470998c",
   "metadata": {},
   "source": [
    "# Q1. What is the difference between getattr and getattribute?\n",
    "Normally, if we want to access the attribute of a class, we access it with instance of the class like instance.attribute_name. These attributes are already present in the class. Where as, to access the attribute of class which are not defined in the class, we use getattr() method.\n",
    "\n",
    "But if the attribute does exist, getattr won’t be invoked"
   ]
  },
  {
   "cell_type": "code",
   "execution_count": 22,
   "id": "f5e40820",
   "metadata": {},
   "outputs": [
    {
     "name": "stdout",
     "output_type": "stream",
     "text": [
      "Banglore\n",
      "abcd\n"
     ]
    }
   ],
   "source": [
    "class Sample:\n",
    "    def __init__(self,address):\n",
    "        self.address = address\n",
    "    \n",
    "    def __getattr__(self,name):\n",
    "        return name.lower()\n",
    "    \n",
    "s =Sample('Banglore')\n",
    "print(s.address) # existing attribute\n",
    "print(s.ABCD) # ABCD is non defined in class"
   ]
  },
  {
   "cell_type": "code",
   "execution_count": 23,
   "id": "2c7e901e",
   "metadata": {},
   "outputs": [
    {
     "name": "stdout",
     "output_type": "stream",
     "text": [
      "New Value\n"
     ]
    }
   ],
   "source": [
    "class Dummy():\n",
    "\n",
    "    def __getattribute__(self, attr):\n",
    "        return 'New Value'\n",
    "\n",
    "d = Dummy()\n",
    "d.value = \"Old value\"\n",
    "print(d.value)  # \"YOU SEE ME?\""
   ]
  },
  {
   "cell_type": "markdown",
   "id": "f03f12be",
   "metadata": {},
   "source": [
    "# Q2. What is the difference between properties and descriptors?\n",
    "In Properties, We can bind getter, setter functions with an attribute name, using the built-in property function. In descriptor, We can bind getter, setter (and deleter) functions into a separate class. We then assign an object of this class to the attribute name."
   ]
  },
  {
   "cell_type": "code",
   "execution_count": 13,
   "id": "436c9afd",
   "metadata": {},
   "outputs": [
    {
     "name": "stdout",
     "output_type": "stream",
     "text": [
      "104\n"
     ]
    }
   ],
   "source": [
    "u = 'akash'\n",
    "print(ord(u[-1]))"
   ]
  },
  {
   "cell_type": "markdown",
   "id": "c4e318fe",
   "metadata": {},
   "source": [
    "# Q3. In 3.X, how do you put non-ASCII Unicode characters in a string?\n",
    "As we know, there are only 127 ASCII characters in ascii table. It stores symbols, letters, whitespace characters, non printable characters, which are very less. So Python 3 has adopted unicode encoding of strings. for non ASCII u can get any value more than 127."
   ]
  },
  {
   "cell_type": "code",
   "execution_count": 14,
   "id": "b99a88ae",
   "metadata": {},
   "outputs": [
    {
     "name": "stdout",
     "output_type": "stream",
     "text": [
      "Akash©\n"
     ]
    }
   ],
   "source": [
    "s = 'Akash'\n",
    "\n",
    "s += chr(128)+chr(169)\n",
    "print(s)"
   ]
  },
  {
   "cell_type": "markdown",
   "id": "4f53452f",
   "metadata": {},
   "source": [
    "# Q4. In Python 3.X, what are the key differences between text-mode and binary-mode files?\n",
    "Files opened in binary mode (appending 'b' to the mode argument) return contents as bytes objects without any decoding. In text mode (the default, or when 't' is appended to the mode argument), the contents of the file are returned as strings, the bytes having been first decoded using a platform-dependent encoding or using the specified encoding if given."
   ]
  },
  {
   "cell_type": "markdown",
   "id": "94715d56",
   "metadata": {},
   "source": [
    "# Q5. How can you interpret a Unicode text file containing text encoded in a different encoding than your platform's default?\n",
    "While reading file, we can specify the encoding such as(utf16, utf32), so the file will be decoded according to that encoding and results are returned to the user."
   ]
  },
  {
   "cell_type": "code",
   "execution_count": 15,
   "id": "70fa1e55",
   "metadata": {},
   "outputs": [
    {
     "name": "stdout",
     "output_type": "stream",
     "text": [
      "this is sample text file for understanding encoding\n"
     ]
    }
   ],
   "source": [
    "text = \"this is sample text file for understanding encoding\"\n",
    "f = open('sample.txt','w', encoding='utf16')\n",
    "f.write(text)\n",
    "f.close()\n",
    "\n",
    "f = open('sample.txt','r', encoding='utf16')\n",
    "print(f.read())"
   ]
  },
  {
   "cell_type": "code",
   "execution_count": 21,
   "id": "858f437e",
   "metadata": {},
   "outputs": [
    {
     "name": "stdout",
     "output_type": "stream",
     "text": [
      "ହୋଉ ହେଲା ଓଡ଼ିଆ | ବହୁତ୍ ଛଇ ତୁମର\n"
     ]
    }
   ],
   "source": [
    "text = 'ହୋଉ ହେଲା ଓଡ଼ିଆ | ବହୁତ୍ ଛଇ ତୁମର'\n",
    "encoded_data = text.encode(\"utf16\")\n",
    "\n",
    "file = open(\"sample1.txt\", \"wb\")\n",
    "file.write(encoded_data)\n",
    "\n",
    "file = open(\"sample1.txt\", \"r\", encoding='utf 16')\n",
    "\n",
    "print(file.read())"
   ]
  },
  {
   "cell_type": "markdown",
   "id": "a36cfa9b",
   "metadata": {},
   "source": [
    "# Q7. What qualifies ASCII text as a form of Unicode text?\n",
    "The first 128 Unicode code points represent the equivalent ASCII characters. They have the same meaning in both ASCII and unicode. Since UTF-8 encodes each of these characters with a single byte, any ASCII text is also a UTF-8 text. Unicode is a superset of ASCII."
   ]
  },
  {
   "cell_type": "markdown",
   "id": "fa50a518",
   "metadata": {},
   "source": [
    "# Q8. How much of an effect does the change in string types in Python 3.X have on your code?\n",
    "In Python 3.X and later, there is only one string type that is unicode. So no effect on the code."
   ]
  }
 ],
 "metadata": {
  "kernelspec": {
   "display_name": "Python 3 (ipykernel)",
   "language": "python",
   "name": "python3"
  },
  "language_info": {
   "codemirror_mode": {
    "name": "ipython",
    "version": 3
   },
   "file_extension": ".py",
   "mimetype": "text/x-python",
   "name": "python",
   "nbconvert_exporter": "python",
   "pygments_lexer": "ipython3",
   "version": "3.9.2"
  }
 },
 "nbformat": 4,
 "nbformat_minor": 5
}
