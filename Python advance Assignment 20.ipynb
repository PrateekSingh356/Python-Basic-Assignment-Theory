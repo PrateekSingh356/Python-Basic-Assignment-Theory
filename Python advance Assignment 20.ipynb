{
 "cells": [
  {
   "cell_type": "markdown",
   "id": "e49e35c0",
   "metadata": {},
   "source": [
    "# Assignment 20"
   ]
  },
  {
   "cell_type": "markdown",
   "id": "d470998c",
   "metadata": {},
   "source": [
    "\n",
    "# 1. Compare and contrast the float and Decimal classes' benefits and drawbacks."
   ]
  },
  {
   "cell_type": "code",
   "execution_count": 52,
   "id": "d5c97073",
   "metadata": {},
   "outputs": [
    {
     "name": "stdout",
     "output_type": "stream",
     "text": [
      "<class 'float'>\n",
      "0.44999999999999996\n",
      "(1, 2)\n",
      "(3152519739159347, 9007199254740992)\n",
      "Context(prec=28, rounding=ROUND_HALF_EVEN, Emin=-999999, Emax=999999, capitals=1, clamp=0, flags=[], traps=[InvalidOperation, DivisionByZero, Overflow])\n",
      "d= 0.01818181818181818181818181818\n",
      "e= 0.018182\n"
     ]
    }
   ],
   "source": [
    "# Ans : Example of float value\n",
    "a = 0.35\n",
    "print(type(a))\n",
    "#       Float objects like this one are always represented internally up to a certain degree of accuracy only.\n",
    "#       This becomes evident when adding 0.1 to a:\n",
    "print(a+0.1)\n",
    "#       The reason for this is that floats are internally represented in binary format;\n",
    "#       that is, a decimal number 0 < n < 1 is represented by a series of the form . \n",
    "#       For certain floating-point numbers the binary representation might involve a large number \n",
    "#       of elements or might even be an infinite series. However, given a fixed number of bits used \n",
    "#       to represent such a number—i.e., a fixed number of terms in the representation \n",
    "#       series—inaccuracies are the consequence. Other numbers can be represented perfectly \n",
    "#       and are therefore stored exactly even with a finite number of bits available. \n",
    "#       Example is  :\n",
    "b=0.5 \n",
    "print(b.as_integer_ratio()) #i.e. 0.5 is exactly represented as 1/2\n",
    "#       incase of b=0.35\n",
    "b=0.35\n",
    "print(b.as_integer_ratio()) # Here teh b=0.35 is not exact\n",
    "#       The precision is dependent on the number of bits used to represent the number. \n",
    "#       Hence some error can creep in. It translates 15 digits accuracy for float.\n",
    "#       For example, the issue can be of importance when summing over a large set of numbers. \n",
    "#       In such a situation, a certain kind and/or magnitude of representation error might, \n",
    "#       in aggregate, lead to significant deviations from a benchmark value.\n",
    "#       In order to overcome this we use the decimal module.\n",
    "#       The module decimal provides an arbitrary-precision object for floating-point numbers \n",
    "#       and several options to address precision issues when working with such numbers:\n",
    "import decimal\n",
    "from decimal import Decimal\n",
    "print(decimal.getcontext())\n",
    "d = Decimal(1) / Decimal (55)\n",
    "print(\"d=\",d)\n",
    "decimal.getcontext().prec = 5  # lower precision \n",
    "e=Decimal(1)/Decimal(55)\n",
    "print(\"e=\",e)\n",
    "#       The precision can in this way be adjusted to the exact problem at hand and one can operate\n",
    "#       with floating-point objects that exhibit different degrees of accuracy."
   ]
  },
  {
   "cell_type": "markdown",
   "id": "45d06bce",
   "metadata": {},
   "source": [
    "# 2. Decimal('1.200') and Decimal('1.2') are two objects to consider. In what sense are these the same object? Are these just two ways of representing the exact same value, or do they correspond to different internal states?"
   ]
  },
  {
   "cell_type": "code",
   "execution_count": 53,
   "id": "9c1bc396",
   "metadata": {},
   "outputs": [
    {
     "name": "stdout",
     "output_type": "stream",
     "text": [
      "1.200\n",
      "1.2\n"
     ]
    }
   ],
   "source": [
    "# Ans : Though they are identical value wise, internal representation or internal state of these two \n",
    "#       values are different, as they have decimal values of different precisions. \n",
    "print(Decimal('1.200'))\n",
    "print(Decimal('1.2'))"
   ]
  },
  {
   "cell_type": "markdown",
   "id": "21153306",
   "metadata": {},
   "source": [
    "# 3. What happens if the equality of Decimal('1.200') and Decimal('1.2') is checked?"
   ]
  },
  {
   "cell_type": "code",
   "execution_count": 54,
   "id": "28b04439",
   "metadata": {},
   "outputs": [
    {
     "name": "stdout",
     "output_type": "stream",
     "text": [
      "True\n"
     ]
    }
   ],
   "source": [
    "# Ans : It returns that the values are stored are True.\n",
    "print(Decimal('1.200') == Decimal('1.2'))"
   ]
  },
  {
   "cell_type": "markdown",
   "id": "0b3d983b",
   "metadata": {},
   "source": [
    "# 4. Why is it preferable to start a Decimal object with a string rather than a floating-point value?"
   ]
  },
  {
   "cell_type": "code",
   "execution_count": 55,
   "id": "b29e3495",
   "metadata": {},
   "outputs": [
    {
     "name": "stdout",
     "output_type": "stream",
     "text": [
      "0.299999999999999988897769753748434595763683319091796875\n",
      "0.3\n"
     ]
    }
   ],
   "source": [
    "# Ans : Floating-point value is converted to Decimal format. Decimal can store float value with absolute\n",
    "#       precision. But when float value is given as Decimal object,it first has to be converted from \n",
    "#       floating point value which might already have rounding error.\n",
    "#       Hence it is preferable to start a Decimal object with a string.\n",
    "#       Example is as follows : \n",
    "import decimal\n",
    "from decimal import Decimal\n",
    "a=Decimal(0.3) #0.3 is a float\n",
    "print(a) # It is not stored exactly as 0.3 but as printed.\n",
    "b=Decimal('0.3') #'0.3' is a string\n",
    "print(b) #It exactly prints 0.3, precisely, with correct precision."
   ]
  },
  {
   "cell_type": "markdown",
   "id": "f03f12be",
   "metadata": {},
   "source": [
    "# 5. In an arithmetic phrase, how simple is it to combine Decimal objects with integers?"
   ]
  },
  {
   "cell_type": "code",
   "execution_count": 56,
   "id": "5c187c90",
   "metadata": {},
   "outputs": [
    {
     "name": "stdout",
     "output_type": "stream",
     "text": [
      "<class 'int'>\n",
      "2\n",
      "4\n"
     ]
    }
   ],
   "source": [
    "# Ans : \n",
    "import decimal\n",
    "from decimal import Decimal\n",
    "val=2\n",
    "print(type(val))\n",
    "a=Decimal(val)\n",
    "print(a)\n",
    "b=a*Decimal(val)\n",
    "print(b)"
   ]
  },
  {
   "cell_type": "markdown",
   "id": "7ca23e5d",
   "metadata": {},
   "source": [
    "# 6. Can Decimal objects and floating-point values be combined easily?"
   ]
  },
  {
   "cell_type": "code",
   "execution_count": 57,
   "id": "91a42efb",
   "metadata": {},
   "outputs": [
    {
     "name": "stdout",
     "output_type": "stream",
     "text": [
      "Muliplication: 0.060000\n"
     ]
    },
    {
     "ename": "TypeError",
     "evalue": "unsupported operand type(s) for *: 'decimal.Decimal' and 'float'",
     "output_type": "error",
     "traceback": [
      "\u001b[1;31m---------------------------------------------------------------------------\u001b[0m",
      "\u001b[1;31mTypeError\u001b[0m                                 Traceback (most recent call last)",
      "Input \u001b[1;32mIn [57]\u001b[0m, in \u001b[0;36m<cell line: 10>\u001b[1;34m()\u001b[0m\n\u001b[0;32m      8\u001b[0m b\u001b[38;5;241m=\u001b[39mDecimal(val)\n\u001b[0;32m      9\u001b[0m \u001b[38;5;28mprint\u001b[39m(\u001b[38;5;124m\"\u001b[39m\u001b[38;5;124mMuliplication:\u001b[39m\u001b[38;5;124m\"\u001b[39m,Decimal(\u001b[38;5;124m'\u001b[39m\u001b[38;5;124m0.2\u001b[39m\u001b[38;5;124m'\u001b[39m)\u001b[38;5;241m*\u001b[39mb ) \u001b[38;5;66;03m# Multiplying a decimal object with float value converted to Decimal\u001b[39;00m\n\u001b[1;32m---> 10\u001b[0m \u001b[38;5;28mprint\u001b[39m(\u001b[43mDecimal\u001b[49m\u001b[43m(\u001b[49m\u001b[38;5;124;43m'\u001b[39;49m\u001b[38;5;124;43m0.2\u001b[39;49m\u001b[38;5;124;43m'\u001b[39;49m\u001b[43m)\u001b[49m\u001b[38;5;241;43m*\u001b[39;49m\u001b[43mval\u001b[49m)\n",
      "\u001b[1;31mTypeError\u001b[0m: unsupported operand type(s) for *: 'decimal.Decimal' and 'float'"
     ]
    }
   ],
   "source": [
    "# Ans : Arithmetic operfations like Adding,subtracting or multiplying a Decimal object by a floating-point value is \n",
    "#       generates an error. To do these operations, the floating point has to be converted to a Decimal object—for \n",
    "#       example, converting from a floating-point value and then rounding. Else, arithmetic operations between the two\n",
    "#       types cause runtime errors.\n",
    "import decimal\n",
    "from decimal import Decimal\n",
    "val=0.3\n",
    "b=Decimal(val)\n",
    "print(\"Muliplication:\",Decimal('0.2')*b ) # Multiplying a decimal object with float value converted to Decimal\n",
    "print(Decimal('0.2')*val)# Error when Decimal obeject is multiplied by a float"
   ]
  },
  {
   "cell_type": "markdown",
   "id": "352e2a77",
   "metadata": {},
   "source": [
    "# 7. Using the Fraction class but not the Decimal class, give an example of a quantity that can be expressed with absolute precision."
   ]
  },
  {
   "cell_type": "code",
   "execution_count": 59,
   "id": "e2e06e1f",
   "metadata": {},
   "outputs": [
    {
     "name": "stdout",
     "output_type": "stream",
     "text": [
      "1/2\n"
     ]
    }
   ],
   "source": [
    "# Ans : Example \n",
    "from fractions import Fraction\n",
    "val=0.5\n",
    "fr=Fraction(val)\n",
    "print(fr)"
   ]
  },
  {
   "cell_type": "markdown",
   "id": "8900c5df",
   "metadata": {},
   "source": [
    "# 8. Describe a quantity that can be accurately expressed by the Decimal or Fraction classes but not by a floating-point value."
   ]
  },
  {
   "cell_type": "code",
   "execution_count": 62,
   "id": "f6d94143",
   "metadata": {},
   "outputs": [
    {
     "name": "stdout",
     "output_type": "stream",
     "text": [
      "decimal= 0.01\n",
      "fraction= 1/100\n",
      "float value= 0.010000000000000002\n"
     ]
    }
   ],
   "source": [
    "# Ans : \n",
    "d=Decimal('0.1') * Decimal('0.1')\n",
    "print(\"decimal=\",d)\n",
    "frac=Fraction('1/10') * Fraction('1/10')\n",
    "print(\"fraction=\",frac)\n",
    "fl=0.1*0.1\n",
    "print(\"float value=\",fl)"
   ]
  },
  {
   "cell_type": "markdown",
   "id": "10844535",
   "metadata": {},
   "source": [
    "# Q9.Consider the following two fraction objects: Fraction(1, 2) and Fraction(1, 2). (5, 10). Is the internal state of these two objects the same? Why do you think that is?"
   ]
  },
  {
   "cell_type": "code",
   "execution_count": 63,
   "id": "d2b1fcf1",
   "metadata": {},
   "outputs": [
    {
     "name": "stdout",
     "output_type": "stream",
     "text": [
      "1/2\n",
      "1/2\n",
      "Fraction (1,2) and Fraction(5,10) are equal\n"
     ]
    }
   ],
   "source": [
    "# Ans : \n",
    "from fractions import Fraction\n",
    "frac1=Fraction(1, 2)\n",
    "print(frac1)\n",
    "frac2=Fraction(5, 10)\n",
    "print(frac2)\n",
    "if (frac1 == frac2 ):\n",
    "    print('Fraction (1,2) and Fraction(5,10) are equal')\n",
    "#    The internal state of both are same as Fraction(5,10) is reduced to simplest form. \n",
    "#    Hence 1/2 is printed in both the cases."
   ]
  },
  {
   "cell_type": "markdown",
   "id": "7c5dbff2",
   "metadata": {},
   "source": [
    "# "
   ]
  }
 ],
 "metadata": {
  "kernelspec": {
   "display_name": "Python 3 (ipykernel)",
   "language": "python",
   "name": "python3"
  },
  "language_info": {
   "codemirror_mode": {
    "name": "ipython",
    "version": 3
   },
   "file_extension": ".py",
   "mimetype": "text/x-python",
   "name": "python",
   "nbconvert_exporter": "python",
   "pygments_lexer": "ipython3",
   "version": "3.9.2"
  }
 },
 "nbformat": 4,
 "nbformat_minor": 5
}
